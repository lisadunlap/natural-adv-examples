{
 "cells": [
  {
   "cell_type": "code",
   "execution_count": 4,
   "id": "2a18b564-c5e2-4e6b-8cdc-bbf6d4aa3e47",
   "metadata": {},
   "outputs": [],
   "source": [
    "import pandas as pd\n",
    "import ast\n",
    "import numpy as np\n",
    "\n",
    "from utils import get_class_mappings"
   ]
  },
  {
   "cell_type": "code",
   "execution_count": 5,
   "id": "45adf063-a39f-4423-86d8-992d447af260",
   "metadata": {},
   "outputs": [],
   "source": [
    "file = open(\"/home/lisa/data/coco_classes.txt\", \"r\")\n",
    "\n",
    "contents = file.read()\n",
    "coco_objects = ast.literal_eval(contents)\n",
    "\n",
    "file.close()\n",
    "\n",
    "class_mappings = get_class_mappings()"
   ]
  },
  {
   "cell_type": "code",
   "execution_count": 16,
   "id": "ece4cfe1-622b-477b-af61-8ef97dbd2420",
   "metadata": {},
   "outputs": [
    {
     "data": {
      "text/plain": [
       "['__background__',\n",
       " 'person',\n",
       " 'bicycle',\n",
       " 'car',\n",
       " 'motorcycle',\n",
       " 'airplane',\n",
       " 'bus',\n",
       " 'train',\n",
       " 'truck',\n",
       " 'boat',\n",
       " 'traffic light',\n",
       " 'fire hydrant',\n",
       " 'stop sign',\n",
       " 'parking meter',\n",
       " 'bench',\n",
       " 'bird',\n",
       " 'cat',\n",
       " 'dog',\n",
       " 'horse',\n",
       " 'sheep',\n",
       " 'cow',\n",
       " 'elephant',\n",
       " 'bear',\n",
       " 'zebra',\n",
       " 'giraffe',\n",
       " 'backpack',\n",
       " 'umbrella',\n",
       " 'handbag',\n",
       " 'tie',\n",
       " 'suitcase',\n",
       " 'frisbee',\n",
       " 'skis',\n",
       " 'snowboard',\n",
       " 'sports ball',\n",
       " 'kite',\n",
       " 'baseball bat',\n",
       " 'baseball glove',\n",
       " 'skateboard',\n",
       " 'surfboard',\n",
       " 'tennis racket',\n",
       " 'bottle',\n",
       " 'wine glass',\n",
       " 'cup',\n",
       " 'fork',\n",
       " 'knife',\n",
       " 'spoon',\n",
       " 'bowl',\n",
       " 'banana',\n",
       " 'apple',\n",
       " 'sandwich',\n",
       " 'orange',\n",
       " 'broccoli',\n",
       " 'carrot',\n",
       " 'hot dog',\n",
       " 'pizza',\n",
       " 'donut',\n",
       " 'cake',\n",
       " 'chair',\n",
       " 'couch',\n",
       " 'potted plant',\n",
       " 'bed',\n",
       " 'dining table',\n",
       " 'toilet',\n",
       " 'tv',\n",
       " 'laptop',\n",
       " 'mouse',\n",
       " 'remote',\n",
       " 'keyboard',\n",
       " 'cell phone',\n",
       " 'microwave',\n",
       " 'oven',\n",
       " 'toaster',\n",
       " 'sink',\n",
       " 'refrigerator',\n",
       " 'book',\n",
       " 'clock',\n",
       " 'vase',\n",
       " 'scissors',\n",
       " 'teddy bear',\n",
       " 'hair drier',\n",
       " 'toothbrush']"
      ]
     },
     "execution_count": 16,
     "metadata": {},
     "output_type": "execute_result"
    }
   ],
   "source": [
    "list(coco_objects.values())"
   ]
  },
  {
   "cell_type": "code",
   "execution_count": 14,
   "id": "adc36439-ed65-4ae9-a264-97ff205bcc55",
   "metadata": {},
   "outputs": [
    {
     "name": "stdout",
     "output_type": "stream",
     "text": [
      "car golf cart\n",
      "car ocarina\n",
      "car carbonara\n",
      "bus African bush elephant\n",
      "bus school bus\n",
      "truck garbage truck\n",
      "parking meter parking meter\n",
      "bird hummingbird\n",
      "cat oystercatcher\n",
      "cat Persian cat\n",
      "dog German Shepherd Dog\n",
      "dog hot dog\n",
      "cow cowboy boot\n",
      "elephant African bush elephant\n",
      "bear American black bear\n",
      "bear teddy bear\n",
      "umbrella umbrella\n",
      "tie bow tie\n",
      "bottle wine bottle\n",
      "cup porcupine\n",
      "fork forklift\n",
      "banana banana\n",
      "apple custard apple\n",
      "broccoli broccoli\n",
      "hot dog hot dog\n",
      "chair rocking chair\n",
      "couch couch\n",
      "toaster toaster\n",
      "clock digital clock\n",
      "teddy bear teddy bear\n"
     ]
    },
    {
     "data": {
      "text/plain": [
       "30"
      ]
     },
     "execution_count": 14,
     "metadata": {},
     "output_type": "execute_result"
    }
   ],
   "source": [
    "i = 0\n",
    "synsets = []\n",
    "for obj in coco_objects.values():\n",
    "    for k in class_mappings.keys():\n",
    "        if obj in class_mappings[k].lower():\n",
    "            synsets.append(k)\n",
    "            print(obj, class_mappings[k])\n",
    "            i += 1\n",
    "#     if any([obj in c.lower() for c in class_mappings.values()]):\n",
    "#         print(obj)\n",
    "#         i += 1\n",
    "i"
   ]
  },
  {
   "cell_type": "code",
   "execution_count": null,
   "id": "e9f54753-2f12-47aa-bc3a-e473c238b5b5",
   "metadata": {},
   "outputs": [],
   "source": []
  }
 ],
 "metadata": {
  "kernelspec": {
   "display_name": "Python 3",
   "language": "python",
   "name": "python3"
  },
  "language_info": {
   "codemirror_mode": {
    "name": "ipython",
    "version": 3
   },
   "file_extension": ".py",
   "mimetype": "text/x-python",
   "name": "python",
   "nbconvert_exporter": "python",
   "pygments_lexer": "ipython3",
   "version": "3.7.11"
  }
 },
 "nbformat": 4,
 "nbformat_minor": 5
}
